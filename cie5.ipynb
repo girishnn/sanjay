{
  "nbformat": 4,
  "nbformat_minor": 0,
  "metadata": {
    "colab": {
      "provenance": [],
      "authorship_tag": "ABX9TyO1nROnvwRa+ZYtYzOru65D",
      "include_colab_link": true
    },
    "kernelspec": {
      "name": "python3",
      "display_name": "Python 3"
    },
    "language_info": {
      "name": "python"
    }
  },
  "cells": [
    {
      "cell_type": "markdown",
      "metadata": {
        "id": "view-in-github",
        "colab_type": "text"
      },
      "source": [
        "<a href=\"https://colab.research.google.com/github/girishnn/sanjay/blob/main/cie5.ipynb\" target=\"_parent\"><img src=\"https://colab.research.google.com/assets/colab-badge.svg\" alt=\"Open In Colab\"/></a>"
      ]
    },
    {
      "cell_type": "code",
      "execution_count": 2,
      "metadata": {
        "colab": {
          "base_uri": "https://localhost:8080/"
        },
        "id": "yhvNJnj6feTL",
        "outputId": "7c88a9fa-e6e5-449d-dd4c-970ada69e0bb"
      },
      "outputs": [
        {
          "output_type": "stream",
          "name": "stdout",
          "text": [
            "[(Ai,), (is,), (simulation,), (of,), (human,), (intelligence,), (by,), (machine.it,), (includes,), (expects,), (system,), (nlp,), (speech,), (recognition,), (and,), (machine,), (vision,)]\n"
          ]
        }
      ],
      "source": [
        "import spacy\n",
        "from nltk import ngrams\n",
        "nlp=spacy.load('en_core_web_sm')\n",
        "doc=nlp('Ai is simulation of human intelligence by machine.it includes expects system nlp speech recognition and machine vision')\n",
        "grams=ngrams(doc,1)\n",
        "print(list(grams))"
      ]
    },
    {
      "cell_type": "code",
      "source": [
        "import spacy\n",
        "from nltk import ngrams\n",
        "nlp=spacy.load('en_core_web_sm')\n",
        "doc=nlp('Ai is simulation of human intelligence by machine.it includes expects system nlp speech recognition and machine vision')\n",
        "bigrams=ngrams(doc,2)\n",
        "print(list(bigrams))"
      ],
      "metadata": {
        "colab": {
          "base_uri": "https://localhost:8080/"
        },
        "id": "A1bwBKQZgX0L",
        "outputId": "62f4dce9-79bf-4b1e-ba95-75fe4050fd93"
      },
      "execution_count": 3,
      "outputs": [
        {
          "output_type": "stream",
          "name": "stdout",
          "text": [
            "[(Ai, is), (is, simulation), (simulation, of), (of, human), (human, intelligence), (intelligence, by), (by, machine.it), (machine.it, includes), (includes, expects), (expects, system), (system, nlp), (nlp, speech), (speech, recognition), (recognition, and), (and, machine), (machine, vision)]\n"
          ]
        }
      ]
    },
    {
      "cell_type": "code",
      "source": [
        "import spacy\n",
        "from nltk import ngrams\n",
        "nlp=spacy.load('en_core_web_sm')\n",
        "doc=nlp('Ai is simulation of human intelligence by machine.it includes expects system nlp speech recognition and machine vision')\n",
        "trigrams=ngrams(doc,3)\n",
        "print(list(trigrams))"
      ],
      "metadata": {
        "colab": {
          "base_uri": "https://localhost:8080/"
        },
        "id": "qSNmc8xMggGC",
        "outputId": "5e7c12b3-07a7-404f-a360-1d9093c6c1e7"
      },
      "execution_count": 4,
      "outputs": [
        {
          "output_type": "stream",
          "name": "stdout",
          "text": [
            "[(Ai, is, simulation), (is, simulation, of), (simulation, of, human), (of, human, intelligence), (human, intelligence, by), (intelligence, by, machine.it), (by, machine.it, includes), (machine.it, includes, expects), (includes, expects, system), (expects, system, nlp), (system, nlp, speech), (nlp, speech, recognition), (speech, recognition, and), (recognition, and, machine), (and, machine, vision)]\n"
          ]
        }
      ]
    }
  ]
}