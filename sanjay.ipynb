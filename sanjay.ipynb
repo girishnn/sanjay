{
  "nbformat": 4,
  "nbformat_minor": 0,
  "metadata": {
    "colab": {
      "provenance": [],
      "authorship_tag": "ABX9TyPsHIRZZbrByxiZ94kY7Mfl",
      "include_colab_link": true
    },
    "kernelspec": {
      "name": "python3",
      "display_name": "Python 3"
    },
    "language_info": {
      "name": "python"
    }
  },
  "cells": [
    {
      "cell_type": "markdown",
      "metadata": {
        "id": "view-in-github",
        "colab_type": "text"
      },
      "source": [
        "<a href=\"https://colab.research.google.com/github/girishnn/sanjay/blob/main/sanjay.ipynb\" target=\"_parent\"><img src=\"https://colab.research.google.com/assets/colab-badge.svg\" alt=\"Open In Colab\"/></a>"
      ]
    },
    {
      "cell_type": "code",
      "execution_count": null,
      "metadata": {
        "colab": {
          "base_uri": "https://localhost:8080/"
        },
        "id": "Xxj1vhcLCtqp",
        "outputId": "6da65a92-9de2-4c86-b7f6-613814252797"
      },
      "outputs": [
        {
          "output_type": "stream",
          "name": "stdout",
          "text": [
            "    NAME  AGE      CITY\n",
            "0   RUPA   25  BAGALKOT\n",
            "1   SITA   30   SOLAPUR\n",
            "2  GEETA   35  GULBARGA\n"
          ]
        }
      ],
      "source": [
        "import pandas as pd\n",
        "data={\n",
        "    'NAME':['RUPA','SITA','GEETA'],\n",
        "    'AGE':[25,30,35],\n",
        "    'CITY':['BAGALKOT','SOLAPUR','GULBARGA']\n",
        "}\n",
        "df=pd.DataFrame(data)\n",
        "print(df)"
      ]
    },
    {
      "cell_type": "code",
      "source": [],
      "metadata": {
        "id": "cB_Pnr_mCfYI"
      },
      "execution_count": null,
      "outputs": []
    },
    {
      "cell_type": "code",
      "source": [],
      "metadata": {
        "id": "LmlwIxkCX9JX"
      },
      "execution_count": null,
      "outputs": []
    },
    {
      "cell_type": "code",
      "source": [
        "import pandas as pd\n",
        "data={\n",
        "    'NAME':['RUPA','SITA','GEETA'],\n",
        "    'AGE':[25,30,35],\n",
        "    'CITY':['BAGALKOT','SOLAPUR','GULBARGA']\n",
        "}\n",
        "df=pd.DataFrame(data)\n",
        "df_sorted=df.sort_values(by='AGE',ascending=False)\n",
        "print(df_sorted)"
      ],
      "metadata": {
        "colab": {
          "base_uri": "https://localhost:8080/"
        },
        "id": "devdU28UEL5l",
        "outputId": "2f841a46-66f1-423d-dc9c-2a0ee5164b09"
      },
      "execution_count": null,
      "outputs": [
        {
          "output_type": "stream",
          "name": "stdout",
          "text": [
            "    NAME  AGE      CITY\n",
            "2  GEETA   35  GULBARGA\n",
            "1   SITA   30   SOLAPUR\n",
            "0   RUPA   25  BAGALKOT\n"
          ]
        }
      ]
    },
    {
      "cell_type": "code",
      "source": [
        "import pandas as pd\n",
        "data={\n",
        "    'NAME':['RUPA','SITA','GEETA'],\n",
        "    'AGE':[25,30,35],\n",
        "    'CITY':['BAGALKOT','SOLAPUR','GULBARGA'],\n",
        "    'SALARY':[50000,60000,70000]\n",
        "}\n",
        "df=pd.DataFrame(data)\n",
        "print(df)"
      ],
      "metadata": {
        "colab": {
          "base_uri": "https://localhost:8080/"
        },
        "id": "T-ts11Y5FOFm",
        "outputId": "55e4f68b-ddaf-44fb-e6b6-d000da0cffec"
      },
      "execution_count": null,
      "outputs": [
        {
          "output_type": "stream",
          "name": "stdout",
          "text": [
            "    NAME  AGE      CITY  SALARY\n",
            "0   RUPA   25  BAGALKOT   50000\n",
            "1   SITA   30   SOLAPUR   60000\n",
            "2  GEETA   35  GULBARGA   70000\n"
          ]
        }
      ]
    },
    {
      "cell_type": "code",
      "source": [
        "import pandas as pd\n",
        "data={\n",
        "    'NAME':['RUPA','SITA','GEETA'],\n",
        "    'AGE':[25,30,35],\n",
        "    'CITY':['BAGALKOT','SOLAPUR','GULBARGA']\n",
        "}\n",
        "\n",
        "df=pd.DataFrame(data)\n",
        "age=df[df['AGE']>30]\n",
        "print(df)\n",
        "print(\"\\nthe age above 30:\\n\",age)"
      ],
      "metadata": {
        "colab": {
          "base_uri": "https://localhost:8080/"
        },
        "id": "9reHO8dXFl9o",
        "outputId": "9f026c5e-c57a-423d-cb36-fdddab0e558a"
      },
      "execution_count": null,
      "outputs": [
        {
          "output_type": "stream",
          "name": "stdout",
          "text": [
            "    NAME  AGE      CITY\n",
            "0   RUPA   25  BAGALKOT\n",
            "1   SITA   30   SOLAPUR\n",
            "2  GEETA   35  GULBARGA\n",
            "\n",
            "the age above 30:\n",
            "     NAME  AGE      CITY\n",
            "2  GEETA   35  GULBARGA\n"
          ]
        }
      ]
    },
    {
      "cell_type": "code",
      "source": [
        "import pandas as pd\n",
        "data={\n",
        "    'NAME':['RUPA','SITA','GEETA'],\n",
        "    'AGE':[25,30,35],\n",
        "    'CITY':['BAGALKOT','SOLAPUR','GULBARGA'],\n",
        "    'SALARY':[50000,60000,70000]\n",
        "}\n",
        "df=pd.DataFrame(data)\n",
        "df.loc[df['NAME']=='SITA','CITY']='BAGALKOT'\n",
        "print(df)"
      ],
      "metadata": {
        "colab": {
          "base_uri": "https://localhost:8080/"
        },
        "id": "TUDlPcAeHLrk",
        "outputId": "9089bbd7-9da7-482f-8339-60f7515b5160"
      },
      "execution_count": null,
      "outputs": [
        {
          "output_type": "stream",
          "name": "stdout",
          "text": [
            "    NAME  AGE      CITY  SALARY\n",
            "0   RUPA   25  BAGALKOT   50000\n",
            "1   SITA   30  BAGALKOT   60000\n",
            "2  GEETA   35  GULBARGA   70000\n"
          ]
        }
      ]
    },
    {
      "cell_type": "code",
      "source": [
        "import pandas as pd\n",
        "data={\n",
        "    'NAME':['RUPA','SITA','GEETA'],\n",
        "    'AGE':[25,30,35],\n",
        "    'CITY':['BAGALKOT','SOLAPUR','GULBARGA'],\n",
        "    'SALARY':[50000,60000,70000]\n",
        "}\n",
        "df=pd.DataFrame(data)\n",
        "df=df.drop('CITY',axis=1)\n",
        "print(df)"
      ],
      "metadata": {
        "colab": {
          "base_uri": "https://localhost:8080/"
        },
        "id": "k6L_WdDPIKaJ",
        "outputId": "005cd5cd-5aca-43c7-a8e8-d8884e466226"
      },
      "execution_count": null,
      "outputs": [
        {
          "output_type": "stream",
          "name": "stdout",
          "text": [
            "    NAME  AGE  SALARY\n",
            "0   RUPA   25   50000\n",
            "1   SITA   30   60000\n",
            "2  GEETA   35   70000\n"
          ]
        }
      ]
    },
    {
      "cell_type": "code",
      "source": [
        "import pandas as pd\n",
        "data={\n",
        "    'NAME':['RUPA','SITA','GEETA'],\n",
        "    'AGE':[25,30,35],\n",
        "    'SALARY':[50000,60000,70000]\n",
        "}\n",
        "df=pd.DataFrame(data)\n",
        "df_age=df['AGE'].mean()\n",
        "print(df_age)"
      ],
      "metadata": {
        "colab": {
          "base_uri": "https://localhost:8080/"
        },
        "id": "PKQvZfssJK7v",
        "outputId": "ae3209c3-e775-43a8-ec0b-e8fc2cd44ced"
      },
      "execution_count": null,
      "outputs": [
        {
          "output_type": "stream",
          "name": "stdout",
          "text": [
            "30.0\n"
          ]
        }
      ]
    },
    {
      "cell_type": "code",
      "source": [
        "import pandas as pd\n",
        "data={\n",
        "    'NAME':['RUPA','SITA','GEETA'],\n",
        "    'AGE':[25,30,35],\n",
        "    'CITY':['BAGALKOT','SOLAPUR','GULBARGA'],\n",
        "    'SALARY':[50000,60000,70000]\n",
        "}\n",
        "df=pd.DataFrame(data)\n",
        "df_from=(df['CITY']=='BAGALKOT').any()\n",
        "print(df_from)"
      ],
      "metadata": {
        "colab": {
          "base_uri": "https://localhost:8080/"
        },
        "id": "IIjL66KDJrGt",
        "outputId": "0e3fc61c-a47c-42e7-fdb2-c212638bcf22"
      },
      "execution_count": null,
      "outputs": [
        {
          "output_type": "stream",
          "name": "stdout",
          "text": [
            "True\n"
          ]
        }
      ]
    },
    {
      "cell_type": "code",
      "source": [
        "import pandas as pd\n",
        "data={\n",
        "    'NAME':['RUPA','SITA','GEETA'],\n",
        "    'AGE':[25,30,35],\n",
        "    'CITY':['BAGALKOT','SOLAPUR','GULBARGA'],\n",
        "    'SALARY':[50000,60000,70000]\n",
        "}\n",
        "df=pd.DataFrame(data)\n",
        "sita_info=df[df['NAME']=='SITA']\n",
        "print(sita_info)"
      ],
      "metadata": {
        "colab": {
          "base_uri": "https://localhost:8080/"
        },
        "id": "W8OTJjqBKX8r",
        "outputId": "ce42ecba-2b46-48f4-be36-8b01e14052e1"
      },
      "execution_count": null,
      "outputs": [
        {
          "output_type": "stream",
          "name": "stdout",
          "text": [
            "   NAME  AGE     CITY  SALARY\n",
            "1  SITA   30  SOLAPUR   60000\n"
          ]
        }
      ]
    },
    {
      "cell_type": "code",
      "source": [
        "import pandas as pd\n",
        "data={\n",
        "    'NAME':['RUPA','SITA','GEETA'],\n",
        "    'AGE':[25,30,35],\n",
        "    'CITY':['BAGALKOT','SOLAPUR','GULBARGA'],\n",
        "    'SALARY':[50000,60000,70000]\n",
        "}\n",
        "df=pd.DataFrame(data)\n",
        "city_counts=df['CITY'].value_counts()\n",
        "print(city_counts)"
      ],
      "metadata": {
        "colab": {
          "base_uri": "https://localhost:8080/"
        },
        "id": "UNDWRfjiKt1q",
        "outputId": "53142567-03aa-4921-f2a3-d98a06d0b655"
      },
      "execution_count": null,
      "outputs": [
        {
          "output_type": "stream",
          "name": "stdout",
          "text": [
            "CITY\n",
            "BAGALKOT    1\n",
            "SOLAPUR     1\n",
            "GULBARGA    1\n",
            "Name: count, dtype: int64\n"
          ]
        }
      ]
    },
    {
      "cell_type": "code",
      "source": [
        "import pandas as pd\n",
        "data={\n",
        "    'NAME':['RUPA','SITA','GEETA'],\n",
        "    'AGE':[25,30,35],\n",
        "    'CITY':['BAGALKOT','SOLAPUR','GULBARGA'],\n",
        "    'SALARY':[50000,60000,70000]\n",
        "}\n",
        "df=pd.DataFrame(data)\n",
        "df_salary=df[df['SALARY']==df['SALARY'].min()]\n",
        "print(df_salary)\n"
      ],
      "metadata": {
        "colab": {
          "base_uri": "https://localhost:8080/"
        },
        "id": "RB1eXtCZK94N",
        "outputId": "a70b6966-3c76-4ecf-f505-c5f5edf45724"
      },
      "execution_count": null,
      "outputs": [
        {
          "output_type": "stream",
          "name": "stdout",
          "text": [
            "   NAME  AGE      CITY  SALARY\n",
            "0  RUPA   25  BAGALKOT   50000\n"
          ]
        }
      ]
    },
    {
      "cell_type": "code",
      "source": [
        "import pandas as pd\n",
        "data={\n",
        "    'NAME':['sanjay','giri','siddu','ajju'],\n",
        "    'AGE':[20,30,40,50],\n",
        "    'CITY':['bilagi','kagalgob','bgk','bbk'],\n",
        "    'SALARY':[50000,60000,70000,80000]\n",
        "}\n",
        "df=pd.DataFrame(data)\n",
        "df = df[df['NAME'] != 'sanjay']\n",
        "print(df)\n"
      ],
      "metadata": {
        "colab": {
          "base_uri": "https://localhost:8080/"
        },
        "id": "k1TxeYg_sbRj",
        "outputId": "aeba1ab4-f8a2-4380-c71d-f2d52eb8fdd2"
      },
      "execution_count": null,
      "outputs": [
        {
          "output_type": "stream",
          "name": "stdout",
          "text": [
            "    NAME  AGE      CITY  SALARY\n",
            "1   giri   30  kagalgob   60000\n",
            "2  siddu   40       bgk   70000\n",
            "3   ajju   50       bbk   80000\n"
          ]
        }
      ]
    },
    {
      "cell_type": "code",
      "source": [
        "import pandas as pd\n",
        "data={\n",
        "    'NAME':['sanjay','giri','siddu','ajju'],\n",
        "    'AGE':[20,30,40,50],\n",
        "    'CITY':['bilagi','kagalgob','bgk','bbk'],\n",
        "    'SALARY':[50000,60000,70000,80000]\n",
        "}\n",
        "df=pd.DataFrame(data)\n",
        "df=df.drop(1, axis=0)\n",
        "print(df)\n"
      ],
      "metadata": {
        "colab": {
          "base_uri": "https://localhost:8080/"
        },
        "id": "YKSbSKoOxc1R",
        "outputId": "64f2d106-4960-4c1d-ab51-8a582a1b4d63"
      },
      "execution_count": null,
      "outputs": [
        {
          "output_type": "stream",
          "name": "stdout",
          "text": [
            "     NAME  AGE    CITY  SALARY\n",
            "0  sanjay   20  bilagi   50000\n",
            "2   siddu   40     bgk   70000\n",
            "3    ajju   50     bbk   80000\n"
          ]
        }
      ]
    },
    {
      "cell_type": "code",
      "source": [
        "import pandas as pd\n",
        "data={\n",
        "    \"NAME\":[\"sanjay\",\"giri\",\"siddu\"],\n",
        "    \"AGE\":[20,22,23],\n",
        "    \"CITY\":[\"bgk\",\"bilagi\",]\n",
        "}"
      ],
      "metadata": {
        "id": "99wvYOtEvKfr"
      },
      "execution_count": null,
      "outputs": []
    },
    {
      "cell_type": "code",
      "source": [
        "import numpy as np\n",
        "arr = np.array([1, 2, 3, 4])\n",
        "print(arr.mean())\n"
      ],
      "metadata": {
        "colab": {
          "base_uri": "https://localhost:8080/"
        },
        "id": "Q9Utqs0kvIcJ",
        "outputId": "b7ebd67c-111e-41ff-9c71-df2fb5542df4"
      },
      "execution_count": null,
      "outputs": [
        {
          "output_type": "stream",
          "name": "stdout",
          "text": [
            "2.5\n"
          ]
        }
      ]
    },
    {
      "cell_type": "code",
      "source": [
        "import numpy as np\n",
        "arr = np.array([1, 2, 3, 4])\n",
        "print(arr.min())\n"
      ],
      "metadata": {
        "colab": {
          "base_uri": "https://localhost:8080/"
        },
        "id": "SQdZkWcuvmtA",
        "outputId": "9b5509e1-dffa-4eed-c0bc-53d1fd2675f2"
      },
      "execution_count": null,
      "outputs": [
        {
          "output_type": "stream",
          "name": "stdout",
          "text": [
            "1\n"
          ]
        }
      ]
    },
    {
      "cell_type": "code",
      "source": [
        "import numpy as np\n",
        "arr = np.array([1, 2, 3, 4])\n",
        "print(arr.max())\n"
      ],
      "metadata": {
        "colab": {
          "base_uri": "https://localhost:8080/"
        },
        "id": "nqSO7b0awO1I",
        "outputId": "185b7fe5-1711-45fc-f810-b7be30c989ab"
      },
      "execution_count": null,
      "outputs": [
        {
          "output_type": "stream",
          "name": "stdout",
          "text": [
            "4\n"
          ]
        }
      ]
    },
    {
      "cell_type": "code",
      "source": [
        "import numpy as np\n",
        "import random\n",
        "array = np.random.randint(16,size=(4,4))\n",
        "print(\"Input Array: \\n\",array)\n",
        "print(\"largest number in x axis: \",np.max(array,axis=1))\n",
        "print(\"largest number in y axis: \",np.max(array,axis=0))\n"
      ],
      "metadata": {
        "colab": {
          "base_uri": "https://localhost:8080/"
        },
        "id": "LBNTRCMIwXWo",
        "outputId": "efc83504-8c79-4941-e128-9f916228cded"
      },
      "execution_count": null,
      "outputs": [
        {
          "output_type": "stream",
          "name": "stdout",
          "text": [
            "Input Array: \n",
            " [[ 7 13 11 11]\n",
            " [ 6 13  3  1]\n",
            " [11  6  7  3]\n",
            " [ 1  4  3  4]]\n",
            "largest number in x axis:  [13 13 11  4]\n",
            "largest number in y axis:  [11 13 11 11]\n"
          ]
        }
      ]
    },
    {
      "cell_type": "code",
      "source": [
        "import numpy as np\n",
        "import random\n",
        "array = np.random.randint(16,size=(4,4))\n",
        "print(\"Input Array: \\n\",array)\n",
        "# Smallest element of the x and y axis\n",
        "print(\"Smallest number in x axis: \",np.min(array,axis=1))\n",
        "print(\"Smallest number in y axis: \",np.min(array,axis=0))\n",
        "print(arr.std())\n"
      ],
      "metadata": {
        "colab": {
          "base_uri": "https://localhost:8080/"
        },
        "id": "1ReWwWQbyNrg",
        "outputId": "5ff0d7ef-5b05-4254-d7d0-4f1d3dc47d83"
      },
      "execution_count": null,
      "outputs": [
        {
          "output_type": "stream",
          "name": "stdout",
          "text": [
            "Input Array: \n",
            " [[14  8  4  5]\n",
            " [ 6 11 14 15]\n",
            " [ 1 12  4  8]\n",
            " [ 0  7 14  1]]\n",
            "Smallest number in x axis:  [4 6 1 0]\n",
            "Smallest number in y axis:  [0 7 4 1]\n",
            "1.118033988749895\n"
          ]
        }
      ]
    },
    {
      "cell_type": "code",
      "source": [
        "arr = np.array([1, 2, 3])\n",
        "print(arr + 2)\n"
      ],
      "metadata": {
        "colab": {
          "base_uri": "https://localhost:8080/"
        },
        "id": "QF62be00zAnw",
        "outputId": "cc02e1b2-5843-4ede-cf19-c10152aeb219"
      },
      "execution_count": null,
      "outputs": [
        {
          "output_type": "stream",
          "name": "stdout",
          "text": [
            "[3 4 5]\n"
          ]
        }
      ]
    },
    {
      "cell_type": "code",
      "source": [
        "arr = np.array([1, 2, 3])\n",
        "print(np.sin(arr))"
      ],
      "metadata": {
        "colab": {
          "base_uri": "https://localhost:8080/"
        },
        "id": "RYmSQ8GCysEP",
        "outputId": "945a2cc6-1107-4fd4-d9fd-db6c0078f22a"
      },
      "execution_count": null,
      "outputs": [
        {
          "output_type": "stream",
          "name": "stdout",
          "text": [
            "[0.84147098 0.90929743 0.14112001]\n"
          ]
        }
      ]
    },
    {
      "cell_type": "code",
      "source": [
        "arr = np.array([1, 2, 3])\n",
        "arr2 = np.array([2,3,4])\n",
        "print(arr + arr2)\n"
      ],
      "metadata": {
        "colab": {
          "base_uri": "https://localhost:8080/"
        },
        "id": "p1HcN85LzrFA",
        "outputId": "835cf904-5094-4125-de67-7a389bd1a38a"
      },
      "execution_count": null,
      "outputs": [
        {
          "output_type": "stream",
          "name": "stdout",
          "text": [
            "[3 5 7]\n"
          ]
        }
      ]
    },
    {
      "cell_type": "code",
      "source": [
        "squared = list(map(lambda x: x**2, arr))\n",
        "print(\"Squared using map:\", squared)\n"
      ],
      "metadata": {
        "colab": {
          "base_uri": "https://localhost:8080/"
        },
        "id": "DtE_MDuV0YEZ",
        "outputId": "f22819c9-f110-41b0-bc04-613ffff3c2fa"
      },
      "execution_count": null,
      "outputs": [
        {
          "output_type": "stream",
          "name": "stdout",
          "text": [
            "Squared using map: [np.int64(1), np.int64(4), np.int64(9)]\n"
          ]
        }
      ]
    },
    {
      "cell_type": "code",
      "source": [
        "def square(number):\n",
        "  return number*number\n",
        "nums= [1,2,3,4]\n",
        "squared_numbers = list(map(square,nums))\n",
        "print(squared_numbers)\n",
        "# Using lambda function\n",
        "nums1= [1,2,3,4,5,6]\n",
        "squareOfnums1 = list(map(lambda n:n*n,nums1))\n",
        "print(squareOfnums1)\n"
      ],
      "metadata": {
        "colab": {
          "base_uri": "https://localhost:8080/"
        },
        "id": "_jj7QFJu0yvv",
        "outputId": "e9a46f7e-4849-400a-ef39-60b53ac8a367"
      },
      "execution_count": null,
      "outputs": [
        {
          "output_type": "stream",
          "name": "stdout",
          "text": [
            "[1, 4, 9, 16]\n",
            "[1, 4, 9, 16, 25, 36]\n"
          ]
        }
      ]
    },
    {
      "cell_type": "code",
      "source": [
        "def is_even(n):\n",
        "  if n % 2 ==0:\n",
        "    return True\n",
        "  else:\n",
        "    return False\n",
        "nums = [1,2,3,4]\n",
        "evens = list(filter(is_even,nums))\n",
        "print(evens)\n"
      ],
      "metadata": {
        "colab": {
          "base_uri": "https://localhost:8080/"
        },
        "id": "xoni6gyt001f",
        "outputId": "91f75617-f960-4a63-b480-23744865edad"
      },
      "execution_count": null,
      "outputs": [
        {
          "output_type": "stream",
          "name": "stdout",
          "text": [
            "[2, 4]\n"
          ]
        }
      ]
    },
    {
      "cell_type": "code",
      "source": [
        "def is_even(n):\n",
        "  if n % 2 ==0:\n",
        "    return True\n",
        "  else:\n",
        "    return False\n",
        "nums = [1,2,3,4]\n",
        "even = list(filter(lambda x: x % 2 == 0, nums))\n",
        "print(\"Even numbers:\", even)\n"
      ],
      "metadata": {
        "id": "Ign2fpllX-82",
        "colab": {
          "base_uri": "https://localhost:8080/"
        },
        "outputId": "3d90de49-0cde-4175-fdeb-eac9d51778b1"
      },
      "execution_count": null,
      "outputs": [
        {
          "output_type": "stream",
          "name": "stdout",
          "text": [
            "Even numbers: [2, 4]\n"
          ]
        }
      ]
    },
    {
      "cell_type": "code",
      "source": [
        "from functools import reduce\n",
        "\n",
        "def sum_all(a,b):\n",
        "  return a+b\n",
        "nums = [1,2,3,4]\n",
        "sum = reduce(sum_all,nums)\n",
        "print(sum)"
      ],
      "metadata": {
        "colab": {
          "base_uri": "https://localhost:8080/"
        },
        "id": "CbLZNWcikHIA",
        "outputId": "4ca1e671-77d2-4ad8-8358-3d4b734b12ca"
      },
      "execution_count": null,
      "outputs": [
        {
          "output_type": "stream",
          "name": "stdout",
          "text": [
            "10\n"
          ]
        }
      ]
    },
    {
      "cell_type": "code",
      "source": [
        "from functools import reduce\n",
        "\n",
        "def sum_all(a,b):\n",
        "  return a+b\n",
        "nums = [1,2,3,4]\n",
        "sum = reduce(sum_all,nums)\n",
        "print(sum)\n",
        "total = reduce(lambda x, y: x + y, nums)\n",
        "print(\"Sum using reduce:\", total)\n"
      ],
      "metadata": {
        "colab": {
          "base_uri": "https://localhost:8080/"
        },
        "id": "qdUxEwvVlD4B",
        "outputId": "e0421d75-e632-4c51-97da-7b0e8f1bdfb1"
      },
      "execution_count": null,
      "outputs": [
        {
          "output_type": "stream",
          "name": "stdout",
          "text": [
            "10\n",
            "Sum using reduce: 10\n"
          ]
        }
      ]
    },
    {
      "cell_type": "code",
      "source": [
        "nums = [1,2,3,4]\n",
        "evens = list(filter(lambda n:n%2==0,nums))\n",
        "print(evens)\n"
      ],
      "metadata": {
        "colab": {
          "base_uri": "https://localhost:8080/"
        },
        "id": "VZnQEC4lmq6B",
        "outputId": "073b3879-d8a7-4a2c-f277-07bac36e4722"
      },
      "execution_count": null,
      "outputs": [
        {
          "output_type": "stream",
          "name": "stdout",
          "text": [
            "[2, 4]\n"
          ]
        }
      ]
    },
    {
      "cell_type": "code",
      "source": [
        "import pandas as pd\n",
        "data = {\n",
        "    'Name': ['Alice', 'Bob', 'Charlie'],\n",
        "    'Age': [25, 30, 35],\n",
        "    'City': ['Delhi', 'Mumbai', 'Bangalore']\n",
        "}\n",
        "df = pd.DataFrame(data)\n",
        "print(df)\n"
      ],
      "metadata": {
        "colab": {
          "base_uri": "https://localhost:8080/"
        },
        "id": "w-67GsZSntBw",
        "outputId": "d710c38e-9d4b-4583-9d58-775331c62b60"
      },
      "execution_count": null,
      "outputs": [
        {
          "output_type": "stream",
          "name": "stdout",
          "text": [
            "      Name  Age       City\n",
            "0    Alice   25      Delhi\n",
            "1      Bob   30     Mumbai\n",
            "2  Charlie   35  Bangalore\n"
          ]
        }
      ]
    },
    {
      "cell_type": "code",
      "source": [
        "import pandas as pd\n",
        "\n",
        "data = {\n",
        "    'Name': ['Alice', 'Bob', 'Charlie'],\n",
        "    'Age': [25, 30, 35],\n",
        "    'City': ['Delhi', 'Mumbai', 'Bangalore']\n",
        "}\n",
        "df=pd.DataFrame(data)\n",
        "print(df)"
      ],
      "metadata": {
        "colab": {
          "base_uri": "https://localhost:8080/"
        },
        "id": "_MElzNdPn8F3",
        "outputId": "7b6946f3-853b-4007-8e11-c1510921462d"
      },
      "execution_count": null,
      "outputs": [
        {
          "output_type": "stream",
          "name": "stdout",
          "text": [
            "      Name  Age       City\n",
            "0    Alice   25      Delhi\n",
            "1      Bob   30     Mumbai\n",
            "2  Charlie   35  Bangalore\n"
          ]
        }
      ]
    },
    {
      "cell_type": "code",
      "source": [
        "df.head()"
      ],
      "metadata": {
        "colab": {
          "base_uri": "https://localhost:8080/",
          "height": 143
        },
        "id": "sdxnL9MUsTLv",
        "outputId": "b85e84e8-6415-4c4d-ec94-6a1055e2d27c"
      },
      "execution_count": null,
      "outputs": [
        {
          "output_type": "execute_result",
          "data": {
            "text/plain": [
              "      Name  Age       City\n",
              "0    Alice   25      Delhi\n",
              "1      Bob   30     Mumbai\n",
              "2  Charlie   35  Bangalore"
            ],
            "text/html": [
              "\n",
              "  <div id=\"df-9fc9d160-b785-403d-a8e4-d94096fdba8a\" class=\"colab-df-container\">\n",
              "    <div>\n",
              "<style scoped>\n",
              "    .dataframe tbody tr th:only-of-type {\n",
              "        vertical-align: middle;\n",
              "    }\n",
              "\n",
              "    .dataframe tbody tr th {\n",
              "        vertical-align: top;\n",
              "    }\n",
              "\n",
              "    .dataframe thead th {\n",
              "        text-align: right;\n",
              "    }\n",
              "</style>\n",
              "<table border=\"1\" class=\"dataframe\">\n",
              "  <thead>\n",
              "    <tr style=\"text-align: right;\">\n",
              "      <th></th>\n",
              "      <th>Name</th>\n",
              "      <th>Age</th>\n",
              "      <th>City</th>\n",
              "    </tr>\n",
              "  </thead>\n",
              "  <tbody>\n",
              "    <tr>\n",
              "      <th>0</th>\n",
              "      <td>Alice</td>\n",
              "      <td>25</td>\n",
              "      <td>Delhi</td>\n",
              "    </tr>\n",
              "    <tr>\n",
              "      <th>1</th>\n",
              "      <td>Bob</td>\n",
              "      <td>30</td>\n",
              "      <td>Mumbai</td>\n",
              "    </tr>\n",
              "    <tr>\n",
              "      <th>2</th>\n",
              "      <td>Charlie</td>\n",
              "      <td>35</td>\n",
              "      <td>Bangalore</td>\n",
              "    </tr>\n",
              "  </tbody>\n",
              "</table>\n",
              "</div>\n",
              "    <div class=\"colab-df-buttons\">\n",
              "\n",
              "  <div class=\"colab-df-container\">\n",
              "    <button class=\"colab-df-convert\" onclick=\"convertToInteractive('df-9fc9d160-b785-403d-a8e4-d94096fdba8a')\"\n",
              "            title=\"Convert this dataframe to an interactive table.\"\n",
              "            style=\"display:none;\">\n",
              "\n",
              "  <svg xmlns=\"http://www.w3.org/2000/svg\" height=\"24px\" viewBox=\"0 -960 960 960\">\n",
              "    <path d=\"M120-120v-720h720v720H120Zm60-500h600v-160H180v160Zm220 220h160v-160H400v160Zm0 220h160v-160H400v160ZM180-400h160v-160H180v160Zm440 0h160v-160H620v160ZM180-180h160v-160H180v160Zm440 0h160v-160H620v160Z\"/>\n",
              "  </svg>\n",
              "    </button>\n",
              "\n",
              "  <style>\n",
              "    .colab-df-container {\n",
              "      display:flex;\n",
              "      gap: 12px;\n",
              "    }\n",
              "\n",
              "    .colab-df-convert {\n",
              "      background-color: #E8F0FE;\n",
              "      border: none;\n",
              "      border-radius: 50%;\n",
              "      cursor: pointer;\n",
              "      display: none;\n",
              "      fill: #1967D2;\n",
              "      height: 32px;\n",
              "      padding: 0 0 0 0;\n",
              "      width: 32px;\n",
              "    }\n",
              "\n",
              "    .colab-df-convert:hover {\n",
              "      background-color: #E2EBFA;\n",
              "      box-shadow: 0px 1px 2px rgba(60, 64, 67, 0.3), 0px 1px 3px 1px rgba(60, 64, 67, 0.15);\n",
              "      fill: #174EA6;\n",
              "    }\n",
              "\n",
              "    .colab-df-buttons div {\n",
              "      margin-bottom: 4px;\n",
              "    }\n",
              "\n",
              "    [theme=dark] .colab-df-convert {\n",
              "      background-color: #3B4455;\n",
              "      fill: #D2E3FC;\n",
              "    }\n",
              "\n",
              "    [theme=dark] .colab-df-convert:hover {\n",
              "      background-color: #434B5C;\n",
              "      box-shadow: 0px 1px 3px 1px rgba(0, 0, 0, 0.15);\n",
              "      filter: drop-shadow(0px 1px 2px rgba(0, 0, 0, 0.3));\n",
              "      fill: #FFFFFF;\n",
              "    }\n",
              "  </style>\n",
              "\n",
              "    <script>\n",
              "      const buttonEl =\n",
              "        document.querySelector('#df-9fc9d160-b785-403d-a8e4-d94096fdba8a button.colab-df-convert');\n",
              "      buttonEl.style.display =\n",
              "        google.colab.kernel.accessAllowed ? 'block' : 'none';\n",
              "\n",
              "      async function convertToInteractive(key) {\n",
              "        const element = document.querySelector('#df-9fc9d160-b785-403d-a8e4-d94096fdba8a');\n",
              "        const dataTable =\n",
              "          await google.colab.kernel.invokeFunction('convertToInteractive',\n",
              "                                                    [key], {});\n",
              "        if (!dataTable) return;\n",
              "\n",
              "        const docLinkHtml = 'Like what you see? Visit the ' +\n",
              "          '<a target=\"_blank\" href=https://colab.research.google.com/notebooks/data_table.ipynb>data table notebook</a>'\n",
              "          + ' to learn more about interactive tables.';\n",
              "        element.innerHTML = '';\n",
              "        dataTable['output_type'] = 'display_data';\n",
              "        await google.colab.output.renderOutput(dataTable, element);\n",
              "        const docLink = document.createElement('div');\n",
              "        docLink.innerHTML = docLinkHtml;\n",
              "        element.appendChild(docLink);\n",
              "      }\n",
              "    </script>\n",
              "  </div>\n",
              "\n",
              "\n",
              "    <div id=\"df-5e7e09b2-fec3-435f-a279-a5e549dd2795\">\n",
              "      <button class=\"colab-df-quickchart\" onclick=\"quickchart('df-5e7e09b2-fec3-435f-a279-a5e549dd2795')\"\n",
              "                title=\"Suggest charts\"\n",
              "                style=\"display:none;\">\n",
              "\n",
              "<svg xmlns=\"http://www.w3.org/2000/svg\" height=\"24px\"viewBox=\"0 0 24 24\"\n",
              "     width=\"24px\">\n",
              "    <g>\n",
              "        <path d=\"M19 3H5c-1.1 0-2 .9-2 2v14c0 1.1.9 2 2 2h14c1.1 0 2-.9 2-2V5c0-1.1-.9-2-2-2zM9 17H7v-7h2v7zm4 0h-2V7h2v10zm4 0h-2v-4h2v4z\"/>\n",
              "    </g>\n",
              "</svg>\n",
              "      </button>\n",
              "\n",
              "<style>\n",
              "  .colab-df-quickchart {\n",
              "      --bg-color: #E8F0FE;\n",
              "      --fill-color: #1967D2;\n",
              "      --hover-bg-color: #E2EBFA;\n",
              "      --hover-fill-color: #174EA6;\n",
              "      --disabled-fill-color: #AAA;\n",
              "      --disabled-bg-color: #DDD;\n",
              "  }\n",
              "\n",
              "  [theme=dark] .colab-df-quickchart {\n",
              "      --bg-color: #3B4455;\n",
              "      --fill-color: #D2E3FC;\n",
              "      --hover-bg-color: #434B5C;\n",
              "      --hover-fill-color: #FFFFFF;\n",
              "      --disabled-bg-color: #3B4455;\n",
              "      --disabled-fill-color: #666;\n",
              "  }\n",
              "\n",
              "  .colab-df-quickchart {\n",
              "    background-color: var(--bg-color);\n",
              "    border: none;\n",
              "    border-radius: 50%;\n",
              "    cursor: pointer;\n",
              "    display: none;\n",
              "    fill: var(--fill-color);\n",
              "    height: 32px;\n",
              "    padding: 0;\n",
              "    width: 32px;\n",
              "  }\n",
              "\n",
              "  .colab-df-quickchart:hover {\n",
              "    background-color: var(--hover-bg-color);\n",
              "    box-shadow: 0 1px 2px rgba(60, 64, 67, 0.3), 0 1px 3px 1px rgba(60, 64, 67, 0.15);\n",
              "    fill: var(--button-hover-fill-color);\n",
              "  }\n",
              "\n",
              "  .colab-df-quickchart-complete:disabled,\n",
              "  .colab-df-quickchart-complete:disabled:hover {\n",
              "    background-color: var(--disabled-bg-color);\n",
              "    fill: var(--disabled-fill-color);\n",
              "    box-shadow: none;\n",
              "  }\n",
              "\n",
              "  .colab-df-spinner {\n",
              "    border: 2px solid var(--fill-color);\n",
              "    border-color: transparent;\n",
              "    border-bottom-color: var(--fill-color);\n",
              "    animation:\n",
              "      spin 1s steps(1) infinite;\n",
              "  }\n",
              "\n",
              "  @keyframes spin {\n",
              "    0% {\n",
              "      border-color: transparent;\n",
              "      border-bottom-color: var(--fill-color);\n",
              "      border-left-color: var(--fill-color);\n",
              "    }\n",
              "    20% {\n",
              "      border-color: transparent;\n",
              "      border-left-color: var(--fill-color);\n",
              "      border-top-color: var(--fill-color);\n",
              "    }\n",
              "    30% {\n",
              "      border-color: transparent;\n",
              "      border-left-color: var(--fill-color);\n",
              "      border-top-color: var(--fill-color);\n",
              "      border-right-color: var(--fill-color);\n",
              "    }\n",
              "    40% {\n",
              "      border-color: transparent;\n",
              "      border-right-color: var(--fill-color);\n",
              "      border-top-color: var(--fill-color);\n",
              "    }\n",
              "    60% {\n",
              "      border-color: transparent;\n",
              "      border-right-color: var(--fill-color);\n",
              "    }\n",
              "    80% {\n",
              "      border-color: transparent;\n",
              "      border-right-color: var(--fill-color);\n",
              "      border-bottom-color: var(--fill-color);\n",
              "    }\n",
              "    90% {\n",
              "      border-color: transparent;\n",
              "      border-bottom-color: var(--fill-color);\n",
              "    }\n",
              "  }\n",
              "</style>\n",
              "\n",
              "      <script>\n",
              "        async function quickchart(key) {\n",
              "          const quickchartButtonEl =\n",
              "            document.querySelector('#' + key + ' button');\n",
              "          quickchartButtonEl.disabled = true;  // To prevent multiple clicks.\n",
              "          quickchartButtonEl.classList.add('colab-df-spinner');\n",
              "          try {\n",
              "            const charts = await google.colab.kernel.invokeFunction(\n",
              "                'suggestCharts', [key], {});\n",
              "          } catch (error) {\n",
              "            console.error('Error during call to suggestCharts:', error);\n",
              "          }\n",
              "          quickchartButtonEl.classList.remove('colab-df-spinner');\n",
              "          quickchartButtonEl.classList.add('colab-df-quickchart-complete');\n",
              "        }\n",
              "        (() => {\n",
              "          let quickchartButtonEl =\n",
              "            document.querySelector('#df-5e7e09b2-fec3-435f-a279-a5e549dd2795 button');\n",
              "          quickchartButtonEl.style.display =\n",
              "            google.colab.kernel.accessAllowed ? 'block' : 'none';\n",
              "        })();\n",
              "      </script>\n",
              "    </div>\n",
              "\n",
              "    </div>\n",
              "  </div>\n"
            ],
            "application/vnd.google.colaboratory.intrinsic+json": {
              "type": "dataframe",
              "variable_name": "df",
              "summary": "{\n  \"name\": \"df\",\n  \"rows\": 3,\n  \"fields\": [\n    {\n      \"column\": \"Name\",\n      \"properties\": {\n        \"dtype\": \"string\",\n        \"num_unique_values\": 3,\n        \"samples\": [\n          \"Alice\",\n          \"Bob\",\n          \"Charlie\"\n        ],\n        \"semantic_type\": \"\",\n        \"description\": \"\"\n      }\n    },\n    {\n      \"column\": \"Age\",\n      \"properties\": {\n        \"dtype\": \"number\",\n        \"std\": 5,\n        \"min\": 25,\n        \"max\": 35,\n        \"num_unique_values\": 3,\n        \"samples\": [\n          25,\n          30,\n          35\n        ],\n        \"semantic_type\": \"\",\n        \"description\": \"\"\n      }\n    },\n    {\n      \"column\": \"City\",\n      \"properties\": {\n        \"dtype\": \"string\",\n        \"num_unique_values\": 3,\n        \"samples\": [\n          \"Delhi\",\n          \"Mumbai\",\n          \"Bangalore\"\n        ],\n        \"semantic_type\": \"\",\n        \"description\": \"\"\n      }\n    }\n  ]\n}"
            }
          },
          "metadata": {},
          "execution_count": 35
        }
      ]
    },
    {
      "cell_type": "code",
      "source": [
        "import pandas as pd\n",
        "\n",
        "data = {\n",
        "    'Name': ['Alice', 'Bob', 'Charlie'],\n",
        "    'Age': [25, 30, 35],\n",
        "    'City': ['Delhi', 'Mumbai', 'Bangalore']\n",
        "}\n",
        "df = pd.DataFrame(data)\n",
        "\n",
        "dff=df.to_csv('/content/output.csv', index=False)\n",
        "print(dff)"
      ],
      "metadata": {
        "colab": {
          "base_uri": "https://localhost:8080/"
        },
        "id": "shifqG7OsvjX",
        "outputId": "3114d2a0-8e54-447f-e854-c3ee07cbe82e"
      },
      "execution_count": null,
      "outputs": [
        {
          "output_type": "stream",
          "name": "stdout",
          "text": [
            "None\n"
          ]
        }
      ]
    },
    {
      "cell_type": "code",
      "source": [
        "import pandas as pd\n",
        "\n",
        "data = {\n",
        "    'Name': ['Alice', 'Bob', 'Charlie'],\n",
        "    'Age': [25, 30, 35],\n",
        "    'City': ['Delhi', 'Mumbai', 'Bangalore']\n",
        "}\n",
        "df=pd.DataFrame(data)\n",
        "print(df)"
      ],
      "metadata": {
        "colab": {
          "base_uri": "https://localhost:8080/"
        },
        "id": "g8Z46VCLtZ-4",
        "outputId": "bd78d257-0fae-4775-b6db-6d8884c412ba"
      },
      "execution_count": null,
      "outputs": [
        {
          "output_type": "stream",
          "name": "stdout",
          "text": [
            "      Name  Age       City\n",
            "0    Alice   25      Delhi\n",
            "1      Bob   30     Mumbai\n",
            "2  Charlie   35  Bangalore\n"
          ]
        }
      ]
    },
    {
      "cell_type": "code",
      "source": [
        "import matplotlib.pyplot as plt\n",
        "categories = ['Category A', 'Category B', 'Category C']\n",
        "amounts = [25, 50, 30]\n",
        "plt.bar(categories, amounts)\n",
        "plt.xlabel('Categories')\n",
        "plt.ylabel('Amounts')\n",
        "plt.title('Bar Chart of Amounts by Category')\n",
        "plt.show()\n"
      ],
      "metadata": {
        "colab": {
          "base_uri": "https://localhost:8080/",
          "height": 472
        },
        "id": "g_-mckl6zO_p",
        "outputId": "b0ab24f1-660d-4d16-a405-0eeedef5ef26"
      },
      "execution_count": null,
      "outputs": [
        {
          "output_type": "display_data",
          "data": {
            "text/plain": [
              "<Figure size 640x480 with 1 Axes>"
            ],
            "image/png": "[encoded data removed]"
          },
          "metadata": {}
        }
      ]
    },
    {
      "cell_type": "code",
      "source": [
        "import matplotlib.pyplot as plt\n",
        "categories = ['Category A', 'Category B', 'Category C']\n",
        "amounts = [25, 50, 30]\n",
        "plt.pie(amounts, labels=categories, autopct='%1.1f%%')\n",
        "plt.title('Pie Chart of Amounts by Category')\n",
        "plt.show()\n"
      ],
      "metadata": {
        "colab": {
          "base_uri": "https://localhost:8080/",
          "height": 428
        },
        "id": "ZreNleqDzy0p",
        "outputId": "a0edd02f-3564-499c-9ff4-c2b29a4615b4"
      },
      "execution_count": null,
      "outputs": [
        {
          "output_type": "display_data",
          "data": {
            "text/plain": [
              "<Figure size 640x480 with 1 Axes>"
            ],
            "image/png": "[encoded data removed]"
          },
          "metadata": {}
        }
      ]
    },
    {
      "cell_type": "code",
      "source": [
        "import matplotlib.pyplot as plt\n",
        "years = [2010, 2011, 2012, 2013, 2014]\n",
        "amounts = [100, 120, 140, 110, 150]\n",
        "plt.plot(years, amounts, marker='o', linestyle='-')\n",
        "plt.xlabel('Year')\n",
        "plt.ylabel('Amount')\n",
        "plt.title('Line Chart of Amounts Over Time')\n",
        "plt.grid(True)\n",
        "plt.show()\n"
      ],
      "metadata": {
        "colab": {
          "base_uri": "https://localhost:8080/",
          "height": 472
        },
        "id": "SWw-2U46z4p5",
        "outputId": "9047b294-3f63-4f95-bfff-594a1d05185d"
      },
      "execution_count": null,
      "outputs": [
        {
          "output_type": "display_data",
          "data": {
            "text/plain": [
              "<Figure size 640x480 with 1 Axes>"
            ],
            "image/png": "[encoded data removed]"
          },
          "metadata": {}
        }
      ]
    },
    {
      "cell_type": "code",
      "source": [
        "import matplotlib.pyplot as plt\n",
        "x = [10, 20, 30, 40, 50]\n",
        "y = [50, 40, 30, 20, 10]\n",
        "plt.scatter(x, y)\n",
        "plt.xlabel('X-Axis')\n",
        "plt.ylabel('Y-Axis')\n",
        "plt.title('Scatter Plot of X vs. Y')\n",
        "plt.grid(True)\n",
        "plt.show()"
      ],
      "metadata": {
        "colab": {
          "base_uri": "https://localhost:8080/",
          "height": 472
        },
        "id": "K0CFopnh0Jgh",
        "outputId": "e05d5f61-1441-41b2-e016-e3d02e8a2d85"
      },
      "execution_count": null,
      "outputs": [
        {
          "output_type": "display_data",
          "data": {
            "text/plain": [
              "<Figure size 640x480 with 1 Axes>"
            ],
            "image/png": "[encoded data removed]"
          },
          "metadata": {}
        }
      ]
    },
    {
      "cell_type": "code",
      "source": [
        "import matplotlib.pyplot as plt\n",
        "import numpy as np\n",
        "data = np.random.randn(1000)\n",
        "plt.hist(data, bins=20, edgecolor='k')\n",
        "plt.xlabel('Value')\n",
        "plt.ylabel('Frequency')\n",
        "plt.title('Histogram of Data')\n",
        "plt.show()"
      ],
      "metadata": {
        "colab": {
          "base_uri": "https://localhost:8080/",
          "height": 472
        },
        "id": "SZq3WX9j2mrY",
        "outputId": "57c2206f-c71f-492f-af2c-404efcde9630"
      },
      "execution_count": null,
      "outputs": [
        {
          "output_type": "display_data",
          "data": {
            "text/plain": [
              "<Figure size 640x480 with 1 Axes>"
            ],
            "image/png": "[encoded data removed]"
          },
          "metadata": {}
        }
      ]
    },
    {
      "cell_type": "code",
      "source": [
        "import matplotlib.pyplot as plt\n",
        "import numpy as np\n",
        "# Generate random data following a uniform distribution\n",
        "low, high = 0, 10\n",
        "data = np.random.uniform(low, high, 1000)\n",
        "# Create a histogram\n",
        "plt.hist(data, bins=20, edgecolor='k', alpha=0.7)\n",
        "# Adding labels and a title\n",
        "plt.xlabel('Value')\n",
        "plt.ylabel('Frequency')\n",
        "plt.title('Histogram of a Uniform Distribution')\n",
        "# Show the plot\n",
        "plt.grid(True)\n",
        "plt.show()"
      ],
      "metadata": {
        "colab": {
          "base_uri": "https://localhost:8080/",
          "height": 472
        },
        "id": "liCEn2iRC6VP",
        "outputId": "6509189d-4ee8-45a3-f941-8f37b184c9c0"
      },
      "execution_count": 14,
      "outputs": [
        {
          "output_type": "display_data",
          "data": {
            "text/plain": [
              "<Figure size 640x480 with 1 Axes>"
            ],
            "image/png": "[encoded data removed]"
          },
          "metadata": {}
        }
      ]
    },
    {
      "cell_type": "code",
      "source": [
        "import matplotlib.pyplot as plt\n",
        "import numpy as np\n",
        "# Generate random data following an exponential distribution\n",
        "scale = 1.0\n",
        "data = np.random.exponential(scale, 1000)\n",
        "# Create a histogram\n",
        "plt.hist(data, bins=20, edgecolor='k', alpha=0.7)\n",
        "# Adding labels and a title\n",
        "plt.xlabel('Value')\n",
        "plt.ylabel('Frequency')\n",
        "plt.title('Histogram of an Exponential Distribution')\n",
        "# Show the plot\n",
        "plt.grid(True)\n",
        "plt.show()\n"
      ],
      "metadata": {
        "colab": {
          "base_uri": "https://localhost:8080/",
          "height": 472
        },
        "id": "ZlaS2sYFDD3R",
        "outputId": "ebf124d5-75fd-4874-9e50-7d8095ef17c8"
      },
      "execution_count": 15,
      "outputs": [
        {
          "output_type": "display_data",
          "data": {
            "text/plain": [
              "<Figure size 640x480 with 1 Axes>"
            ],
            "image/png": "[encoded data removed]"
          },
          "metadata": {}
        }
      ]
    },
    {
      "cell_type": "code",
      "source": [
        "import seaborn as sns\n",
        "import numpy as np\n",
        "# Generate random data following a normal distribution\n",
        "mu, sigma = 0, 1\n",
        "data = np.random.normal(mu, sigma, 1000)\n",
        "# Create a KDE plot\n",
        "sns.kdeplot(data, shade=True)\n",
        "# Adding labels and a title\n",
        "plt.xlabel('Value')\n",
        "plt.ylabel('Density')\n",
        "plt.title('Kernel Density Estimation (KDE) Plot of a Normal Distribution')\n",
        "# Show the plot\n",
        "plt.show()\n"
      ],
      "metadata": {
        "colab": {
          "base_uri": "https://localhost:8080/",
          "height": 576
        },
        "id": "hyY3bz96DLb_",
        "outputId": "b35ca5eb-c98d-4b38-aec4-02f15c44e945"
      },
      "execution_count": 16,
      "outputs": [
        {
          "output_type": "stream",
          "name": "stderr",
          "text": [
            "/tmp/ipython-input-16-3544705207.py:7: FutureWarning: \n",
            "\n",
            "`shade` is now deprecated in favor of `fill`; setting `fill=True`.\n",
            "This will become an error in seaborn v0.14.0; please update your code.\n",
            "\n",
            "  sns.kdeplot(data, shade=True)\n"
          ]
        },
        {
          "output_type": "display_data",
          "data": {
            "text/plain": [
              "<Figure size 640x480 with 1 Axes>"
            ],
            "image/png": "[encoded data removed]"
          },
          "metadata": {}
        }
      ]
    },
    {
      "cell_type": "code",
      "source": [
        "import seaborn as sns\n",
        "# Generate random data for two different distributions\n",
        "data1 = np.random.normal(0, 1, 1000)\n",
        "data2 = np.random.normal(2, 1, 1000)\n",
        "# Create a box plot to compare the two distributions\n",
        "sns.boxplot(data=[data1, data2])\n",
        "# Adding labels and a title\n",
        "plt.xlabel('Distribution')\n",
        "plt.ylabel('Value')\n",
        "plt.title('Box Plot Comparison of Two Distributions')\n",
        "# Show the plot\n",
        "plt.show()\n"
      ],
      "metadata": {
        "colab": {
          "base_uri": "https://localhost:8080/",
          "height": 472
        },
        "id": "_u7fw9_kDUK1",
        "outputId": "0ced2ccb-38ac-4a34-d2cb-6fce64d6ffaa"
      },
      "execution_count": 17,
      "outputs": [
        {
          "output_type": "display_data",
          "data": {
            "text/plain": [
              "<Figure size 640x480 with 1 Axes>"
            ],
            "image/png": "[encoded data removed]"
          },
          "metadata": {}
        }
      ]
    }
  ]
}